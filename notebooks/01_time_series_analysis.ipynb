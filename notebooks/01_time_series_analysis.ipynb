{
 "cells": [
  {
   "cell_type": "code",
   "execution_count": null,
   "id": "aeeab111-1b64-480c-87cc-781d43865a91",
   "metadata": {},
   "outputs": [],
   "source": [
    "# Celda 1\n",
    "\n",
    "import pandas as pd                   # Importa la librería pandas para la manipulación de estructuras de datos (DataFrames)\n",
    "import numpy as np                    # Importa numpy para operaciones numéricas y manejo de arrays\n",
    "import matplotlib.pyplot as plt       # Importa matplotlib para la creación de gráficos\n",
    "import yfinance as yf                 # Importa yfinance para descargar datos financieros desde Yahoo Finance\n",
    "from statsmodels.tsa.seasonal import seasonal_decompose  # Importa la función para descomponer series de tiempo\n",
    "from statsmodels.tsa.arima.model import ARIMA            # Importa el modelo ARIMA para análisis y predicción de series\n",
    "\n",
    "# Configura el estilo de los gráficos para una apariencia más profesional\n",
    "plt.style.use('seaborn-darkgrid')      # Aplica el estilo 'seaborn-darkgrid' a los gráficos\n"
   ]
  },
  {
   "cell_type": "code",
   "execution_count": null,
   "id": "8f87e63e-6956-4da2-b427-1095ea99e164",
   "metadata": {},
   "outputs": [],
   "source": []
  }
 ],
 "metadata": {
  "kernelspec": {
   "display_name": "Python 3 (ipykernel)",
   "language": "python",
   "name": "python3"
  },
  "language_info": {
   "codemirror_mode": {
    "name": "ipython",
    "version": 3
   },
   "file_extension": ".py",
   "mimetype": "text/x-python",
   "name": "python",
   "nbconvert_exporter": "python",
   "pygments_lexer": "ipython3",
   "version": "3.12.7"
  }
 },
 "nbformat": 4,
 "nbformat_minor": 5
}
